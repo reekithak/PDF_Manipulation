{
 "cells": [
  {
   "cell_type": "code",
   "execution_count": 14,
   "metadata": {
    "ExecuteTime": {
     "end_time": "2020-10-29T18:27:17.762830Z",
     "start_time": "2020-10-29T18:27:17.748862Z"
    }
   },
   "outputs": [],
   "source": [
    "#!pip install PyPDF2"
   ]
  },
  {
   "cell_type": "code",
   "execution_count": 15,
   "metadata": {
    "ExecuteTime": {
     "end_time": "2020-10-29T18:27:18.121916Z",
     "start_time": "2020-10-29T18:27:18.107921Z"
    }
   },
   "outputs": [],
   "source": [
    "#!python fetch.py"
   ]
  },
  {
   "cell_type": "code",
   "execution_count": 16,
   "metadata": {
    "ExecuteTime": {
     "end_time": "2020-10-29T18:27:18.433602Z",
     "start_time": "2020-10-29T18:27:18.416645Z"
    }
   },
   "outputs": [],
   "source": [
    "from PyPDF2 import PdfFileReader"
   ]
  },
  {
   "cell_type": "code",
   "execution_count": 17,
   "metadata": {
    "ExecuteTime": {
     "end_time": "2020-10-29T18:27:18.667135Z",
     "start_time": "2020-10-29T18:27:18.650072Z"
    }
   },
   "outputs": [],
   "source": [
    "from pathlib import Path"
   ]
  },
  {
   "cell_type": "code",
   "execution_count": 19,
   "metadata": {
    "ExecuteTime": {
     "end_time": "2020-10-29T18:27:22.426628Z",
     "start_time": "2020-10-29T18:27:22.414660Z"
    }
   },
   "outputs": [],
   "source": [
    "place = r\"D:\\working repos\\Machine_Learing_PDF\\ReactTrialv1\\Pdf-Python\\new_pdf.pdf\""
   ]
  },
  {
   "cell_type": "code",
   "execution_count": 22,
   "metadata": {
    "ExecuteTime": {
     "end_time": "2020-10-29T18:27:33.808453Z",
     "start_time": "2020-10-29T18:27:33.795487Z"
    }
   },
   "outputs": [
    {
     "name": "stdout",
     "output_type": "stream",
     "text": [
      "Fetching Successful\n"
     ]
    }
   ],
   "source": [
    "try:\n",
    "    pdf = PdfFileReader(place)\n",
    "    print(\"Fetching Successful\")\n",
    "except Exception as e:\n",
    "    print(e)"
   ]
  },
  {
   "cell_type": "code",
   "execution_count": 23,
   "metadata": {
    "ExecuteTime": {
     "end_time": "2020-10-29T18:27:35.000903Z",
     "start_time": "2020-10-29T18:27:34.991892Z"
    }
   },
   "outputs": [
    {
     "name": "stdout",
     "output_type": "stream",
     "text": [
      "Number of Pages:  15\n"
     ]
    }
   ],
   "source": [
    "print(\"Number of Pages: \",pdf.getNumPages())"
   ]
  },
  {
   "cell_type": "code",
   "execution_count": 26,
   "metadata": {
    "ExecuteTime": {
     "end_time": "2020-10-29T18:28:05.105878Z",
     "start_time": "2020-10-29T18:28:05.096903Z"
    }
   },
   "outputs": [
    {
     "name": "stdout",
     "output_type": "stream",
     "text": [
      "Document Information :\n",
      " {'/CreationDate': \"D:20200214190043+08'00'\", '/ModDate': \"D:20200214190043+08'00'\", '/Producer': 'iText® 7.1.1 ©2000-2018 iText Group NV (AGPL-version)'}\n"
     ]
    }
   ],
   "source": [
    "print(\"Document Information :\\n\",pdf.documentInfo)"
   ]
  },
  {
   "cell_type": "code",
   "execution_count": 29,
   "metadata": {
    "ExecuteTime": {
     "end_time": "2020-10-29T18:28:43.882568Z",
     "start_time": "2020-10-29T18:28:43.868582Z"
    }
   },
   "outputs": [
    {
     "name": "stdout",
     "output_type": "stream",
     "text": [
      "Title:  None\n"
     ]
    }
   ],
   "source": [
    "print(\"Title: \",pdf.documentInfo.title)"
   ]
  },
  {
   "cell_type": "code",
   "execution_count": 34,
   "metadata": {
    "ExecuteTime": {
     "end_time": "2020-10-29T18:30:43.323283Z",
     "start_time": "2020-10-29T18:30:43.318296Z"
    }
   },
   "outputs": [],
   "source": [
    "first_page = pdf.getPage(0)"
   ]
  },
  {
   "cell_type": "code",
   "execution_count": 37,
   "metadata": {
    "ExecuteTime": {
     "end_time": "2020-10-29T18:31:10.493484Z",
     "start_time": "2020-10-29T18:31:10.484508Z"
    }
   },
   "outputs": [],
   "source": [
    "#first_page"
   ]
  },
  {
   "cell_type": "code",
   "execution_count": 41,
   "metadata": {
    "ExecuteTime": {
     "end_time": "2020-10-29T18:33:05.962849Z",
     "start_time": "2020-10-29T18:33:05.946860Z"
    }
   },
   "outputs": [],
   "source": [
    "pdf_path = (\n",
    "    Path.home()\n",
    "    / \"creating-and-modifying-pdfs\"\n",
    "    / \"practice-files\"\n",
    "    / \"Pride_and_Prejudice.pdf\"\n",
    ")"
   ]
  },
  {
   "cell_type": "code",
   "execution_count": 43,
   "metadata": {
    "ExecuteTime": {
     "end_time": "2020-10-29T18:33:30.746400Z",
     "start_time": "2020-10-29T18:33:30.740418Z"
    }
   },
   "outputs": [
    {
     "name": "stdout",
     "output_type": "stream",
     "text": [
      "Home Path:  C:\\Users\\Akhil Sanker\n"
     ]
    }
   ],
   "source": [
    "print(\"Home Path: \",Path.home())"
   ]
  },
  {
   "cell_type": "code",
   "execution_count": 48,
   "metadata": {
    "ExecuteTime": {
     "end_time": "2020-10-29T18:47:01.578263Z",
     "start_time": "2020-10-29T18:47:01.356200Z"
    }
   },
   "outputs": [],
   "source": [
    "output_file_path = output_file_path = Path.home() / \"editedpdf.txt\"\n",
    "\n",
    "# 2\n",
    "with output_file_path.open(mode=\"w\",encoding='utf-8') as output_file:\n",
    "    # 3\n",
    "    title = pdf.documentInfo.title\n",
    "    num_pages = pdf.getNumPages()\n",
    "    output_file.write(f\"{title}\\\\nNumber of pages: {num_pages}\\\\n\\\\n\")\n",
    "\n",
    "    # 4\n",
    "    for page in pdf.pages:\n",
    "        text = page.extractText()\n",
    "        output_file.write(text)"
   ]
  },
  {
   "cell_type": "code",
   "execution_count": null,
   "metadata": {},
   "outputs": [],
   "source": []
  }
 ],
 "metadata": {
  "kernelspec": {
   "display_name": "Python 3",
   "language": "python",
   "name": "python3"
  },
  "language_info": {
   "codemirror_mode": {
    "name": "ipython",
    "version": 3
   },
   "file_extension": ".py",
   "mimetype": "text/x-python",
   "name": "python",
   "nbconvert_exporter": "python",
   "pygments_lexer": "ipython3",
   "version": "3.7.8"
  }
 },
 "nbformat": 4,
 "nbformat_minor": 4
}
