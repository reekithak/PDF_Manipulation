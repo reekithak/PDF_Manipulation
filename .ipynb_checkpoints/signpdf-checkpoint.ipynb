{
 "cells": [
  {
   "cell_type": "markdown",
   "metadata": {
    "ExecuteTime": {
     "end_time": "2020-11-09T19:00:48.616656Z",
     "start_time": "2020-11-09T19:00:48.605652Z"
    }
   },
   "source": [
    "**Pdf - To insert Signature / Images**"
   ]
  },
  {
   "cell_type": "markdown",
   "metadata": {},
   "source": [
    "- Image Space within a pdf\n",
    "- Identify Coordinates\n",
    "- Base here : X = 36x1 -> 500x1  (Finishing)\n",
    "- Base here : Y =  36y1 -> 739y1 (Finishing)\n",
    "- Finishing > Within the boundaries"
   ]
  },
  {
   "cell_type": "markdown",
   "metadata": {},
   "source": [
    "- ^ For all Pages ? ->  (Slight Differences , Adjustable )"
   ]
  },
  {
   "cell_type": "code",
   "execution_count": 1,
   "metadata": {
    "ExecuteTime": {
     "end_time": "2020-11-12T21:18:18.485269Z",
     "start_time": "2020-11-12T21:18:18.276274Z"
    }
   },
   "outputs": [],
   "source": [
    "import os\n",
    "import time\n",
    "import argparse\n",
    "import tempfile\n",
    "import PyPDF2\n",
    "import datetime\n",
    "from reportlab.pdfgen import canvas\n",
    "from PIL import Image\n",
    "from reportlab.lib.pagesizes import letter\n",
    "from reportlab.pdfgen.canvas import Canvas\n",
    "from reportlab.lib.utils import ImageReader\n",
    "import time"
   ]
  },
  {
   "cell_type": "code",
   "execution_count": 2,
   "metadata": {
    "ExecuteTime": {
     "end_time": "2020-11-12T21:18:18.960044Z",
     "start_time": "2020-11-12T21:18:18.949045Z"
    }
   },
   "outputs": [],
   "source": [
    "def clean_all():\n",
    "    try:\n",
    "        os.remove(r\"D:\\working repos\\Machine_Learing_PDF\\ReactTrialv1\\b_f1.pdf\")\n",
    "        os.remove(r\"D:\\working repos\\Machine_Learing_PDF\\ReactTrialv1\\b_f2.pdf\")\n",
    "        os.remove(r\"D:\\working repos\\Machine_Learing_PDF\\ReactTrialv1\\b_f3.pdf\")\n",
    "    except:\n",
    "        pass\n",
    "\n",
    "    try:\n",
    "\n",
    "        os.remove(r\"D:\\working repos\\Machine_Learing_PDF\\ReactTrialv1\\b1.pdf\")\n",
    "        os.remove(r\"D:\\working repos\\Machine_Learing_PDF\\ReactTrialv1\\b2.pdf\")\n",
    "        os.remove(r\"D:\\working repos\\Machine_Learing_PDF\\ReactTrialv1\\b3.pdf\")\n",
    "        os.remove(r\"D:\\working repos\\Machine_Learing_PDF\\ReactTrialv1\\b4.pdf\")\n",
    "    except:\n",
    "        pass\n",
    "    \n",
    "    os.rename(r\"D:\\working repos\\Machine_Learing_PDF\\ReactTrialv1\\b_f4.pdf\",r\"D:\\working repos\\Machine_Learing_PDF\\ReactTrialv1\\signed_form.pdf\")"
   ]
  },
  {
   "cell_type": "code",
   "execution_count": 3,
   "metadata": {
    "ExecuteTime": {
     "end_time": "2020-11-12T21:18:19.689314Z",
     "start_time": "2020-11-12T21:18:19.667313Z"
    }
   },
   "outputs": [],
   "source": [
    "def pass_pdf(pdf_fh,args,image,name,f_name):\n",
    "    sig_tmp_fh = None\n",
    "    pdf = PyPDF2.PdfFileReader(pdf_fh)\n",
    "    writer = PyPDF2.PdfFileWriter()\n",
    "    sig_tmp_filename = None\n",
    "    page_num, x1, y1, width, height = [int(a) for a in args.split(\"x\")]\n",
    "    page_num = [int(x) for x in str(page_num)]\n",
    "    k = 0\n",
    "    for i in range(0, pdf.getNumPages()):\n",
    "        page = pdf.getPage(i)\n",
    "        #print(page)\n",
    "        if i in page_num:\n",
    "            k = 1\n",
    "            #print(\"True\")\n",
    "            sig_tmp_filename = name\n",
    "            c = canvas.Canvas(sig_tmp_filename, pagesize=page.cropBox)\n",
    "            c.drawImage(image, x1, y1, width, height, mask='auto')\n",
    "            c.showPage()\n",
    "            c.save()\n",
    "            #print(\"Done-1\")\n",
    "            sig_tmp_fh = open(sig_tmp_filename, 'rb')\n",
    "            sig_tmp_pdf = PyPDF2.PdfFileReader(sig_tmp_fh)\n",
    "            #print(\"Done-2\")\n",
    "            sig_page = sig_tmp_pdf.getPage(0)\n",
    "            sig_page.mediaBox = page.mediaBox\n",
    "            page.mergePage(sig_page)\n",
    "            print(\"Finish\")\n",
    "            \n",
    "        writer.addPage(page)\n",
    "        if(k==1):\n",
    "            #print(\"added page\")\n",
    "            k=0\n",
    "    with open(f_name, 'wb') as fh:\n",
    "            writer.write(fh)            "
   ]
  },
  {
   "cell_type": "code",
   "execution_count": 4,
   "metadata": {
    "ExecuteTime": {
     "end_time": "2020-11-12T21:18:20.907633Z",
     "start_time": "2020-11-12T21:18:20.859631Z"
    }
   },
   "outputs": [],
   "source": [
    "#Reading images\n",
    "b_im = ImageReader(r\"D:\\working repos\\Machine_Learing_PDF\\ReactTrialv1\\buyer_sign.png\")\n",
    "s_im = ImageReader(r\"D:\\working repos\\Machine_Learing_PDF\\ReactTrialv1\\seller_sign.png\")"
   ]
  },
  {
   "cell_type": "code",
   "execution_count": 5,
   "metadata": {
    "ExecuteTime": {
     "end_time": "2020-11-12T21:18:22.021631Z",
     "start_time": "2020-11-12T21:18:22.006632Z"
    }
   },
   "outputs": [
    {
     "data": {
      "text/plain": [
       "'\\nBASE DETAILS\\n\\n\\nBUYER:\\n1st : - \"7x125x220x100x40\"\\n2nd : - \"7x125x150x100x40\"\\n\\nSELLER:\\n1st : - \"7x340x220x100x40\"\\n2nd : - \"7x340x150x100x40\"\\npdf_fh = open(r\"D:\\\\working repos\\\\Machine_Learing_PDF\\\\ReactTrialv1\\x0corms.pdf\", \\'rb\\')\\n'"
      ]
     },
     "execution_count": 5,
     "metadata": {},
     "output_type": "execute_result"
    }
   ],
   "source": [
    "'''\n",
    "BASE DETAILS\n",
    "\n",
    "\n",
    "BUYER:\n",
    "1st : - \"7x125x220x100x40\"\n",
    "2nd : - \"7x125x150x100x40\"\n",
    "\n",
    "SELLER:\n",
    "1st : - \"7x340x220x100x40\"\n",
    "2nd : - \"7x340x150x100x40\"\n",
    "pdf_fh = open(r\"D:\\working repos\\Machine_Learing_PDF\\ReactTrialv1\\forms.pdf\", 'rb')\n",
    "'''"
   ]
  },
  {
   "cell_type": "code",
   "execution_count": 7,
   "metadata": {
    "ExecuteTime": {
     "end_time": "2020-11-12T21:18:57.175038Z",
     "start_time": "2020-11-12T21:18:34.756030Z"
    }
   },
   "outputs": [
    {
     "name": "stdout",
     "output_type": "stream",
     "text": [
      "Finish\n",
      "Finish\n",
      "Finish\n",
      "Finish\n"
     ]
    }
   ],
   "source": [
    "#Buyer\n",
    "#1st\n",
    "pdf_fh = open(r\"D:\\working repos\\Machine_Learing_PDF\\ReactTrialv1\\forms.pdf\", 'rb')\n",
    "args = \"7x125x220x100x40\"\n",
    "pass_pdf(pdf_fh,args,b_im,\"b1.pdf\",\"b_f1.pdf\")   \n",
    "#2nd\n",
    "pdf_fh = open(r\"D:\\working repos\\Machine_Learing_PDF\\ReactTrialv1\\b_f1.pdf\", 'rb')\n",
    "args = \"7x125x150x100x40\"\n",
    "pass_pdf(pdf_fh,args,b_im,\"b2.pdf\",\"b_f2.pdf\")\n",
    "\n",
    "\n",
    "\n",
    "\n",
    "\n",
    "#seller\n",
    "#1st\n",
    "pdf_fh = open(r\"D:\\working repos\\Machine_Learing_PDF\\ReactTrialv1\\b_f2.pdf\", 'rb')\n",
    "args = \"7x340x220x100x40\"\n",
    "pass_pdf(pdf_fh,args,s_im,\"b3.pdf\",\"b_f3.pdf\")   \n",
    "#2nd\n",
    "pdf_fh = open(r\"D:\\working repos\\Machine_Learing_PDF\\ReactTrialv1\\b_f3.pdf\", 'rb')\n",
    "args = \"7x340x150x100x40\"\n",
    "pass_pdf(pdf_fh,args,s_im,\"b4.pdf\",\"b_f4.pdf\")"
   ]
  },
  {
   "cell_type": "code",
   "execution_count": 8,
   "metadata": {
    "ExecuteTime": {
     "end_time": "2020-11-12T21:18:57.253039Z",
     "start_time": "2020-11-12T21:18:57.184037Z"
    }
   },
   "outputs": [
    {
     "name": "stdout",
     "output_type": "stream",
     "text": [
      "File saved as signed_form.pdf in the main directory :) \n"
     ]
    }
   ],
   "source": [
    "clean_all()\n",
    "print(\"File saved as signed_form.pdf in the main directory :) \")"
   ]
  }
 ],
 "metadata": {
  "kernelspec": {
   "display_name": "Python 3",
   "language": "python",
   "name": "python3"
  },
  "language_info": {
   "codemirror_mode": {
    "name": "ipython",
    "version": 3
   },
   "file_extension": ".py",
   "mimetype": "text/x-python",
   "name": "python",
   "nbconvert_exporter": "python",
   "pygments_lexer": "ipython3",
   "version": "3.7.8"
  }
 },
 "nbformat": 4,
 "nbformat_minor": 4
}
